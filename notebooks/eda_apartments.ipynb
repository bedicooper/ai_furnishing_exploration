{
 "cells": [
  {
   "cell_type": "markdown",
   "id": "86adf38c",
   "metadata": {},
   "source": [
    "# EDA: Apartment JSONs Dataset\n",
    "\n",
    "**Goal**: Understand the structure and quality of apartment data\n",
    "\n",
    "## Questions to answer:\n",
    "1. How many apartments have furniture?\n",
    "2. What room types exist?\n",
    "3. What furniture IDs are used?\n",
    "4. Are there semantic errors (e.g., WC in living room)?\n",
    "5. What are the distributions of room sizes?\n",
    "6. How many furniture items per room on average?"
   ]
  },
  {
   "cell_type": "code",
   "execution_count": null,
   "id": "c901acbe",
   "metadata": {},
   "outputs": [],
   "source": [
    "import json\n",
    "import pandas as pd\n",
    "import numpy as np\n",
    "import matplotlib.pyplot as plt\n",
    "import seaborn as sns\n",
    "from pathlib import Path\n",
    "from collections import Counter, defaultdict\n",
    "\n",
    "# Add utils to path\n",
    "import sys\n",
    "sys.path.append('../utils')\n",
    "\n",
    "from json_processing import (\n",
    "    load_apartment_json,\n",
    "    extract_furniture_ids,\n",
    "    extract_room_features\n",
    ")\n",
    "\n",
    "sns.set_theme(style='whitegrid')"
   ]
  },
  {
   "cell_type": "markdown",
   "id": "c258aeea",
   "metadata": {},
   "source": [
    "## 1. Load Sample Data\n",
    "\n",
    "**TODO**: Update `data_dir` to point to your apartment JSONs location"
   ]
  },
  {
   "cell_type": "code",
   "execution_count": null,
   "id": "bf2f0a82",
   "metadata": {},
   "outputs": [],
   "source": [
    "# TODO: Update this path!\n",
    "data_dir = Path(\"path/to/apartment_jsons\")\n",
    "\n",
    "# Load first N apartments for exploration\n",
    "json_files = list(data_dir.glob(\"*.json\"))[:1000]  # Start with 1000\n",
    "\n",
    "print(f\"Found {len(json_files)} JSON files\")"
   ]
  },
  {
   "cell_type": "code",
   "execution_count": null,
   "id": "d6e1c3bb",
   "metadata": {},
   "outputs": [],
   "source": [
    "# Load one example to inspect structure\n",
    "if json_files:\n",
    "    example = load_apartment_json(json_files[0])\n",
    "    print(json.dumps(example, indent=2)[:2000])  # First 2000 chars"
   ]
  },
  {
   "cell_type": "markdown",
   "id": "0d6e73d3",
   "metadata": {},
   "source": [
    "## 2. Furniture Coverage Analysis"
   ]
  },
  {
   "cell_type": "code",
   "execution_count": null,
   "id": "7d186da0",
   "metadata": {},
   "outputs": [],
   "source": [
    "# Count apartments with furniture\n",
    "apartments_with_furniture = 0\n",
    "apartments_without_furniture = 0\n",
    "total_furniture_items = 0\n",
    "\n",
    "for json_file in json_files:\n",
    "    apt_data = load_apartment_json(json_file)\n",
    "    furniture_by_room = extract_furniture_ids(apt_data)\n",
    "    \n",
    "    total_items = sum(len(ids) for ids in furniture_by_room.values())\n",
    "    \n",
    "    if total_items > 0:\n",
    "        apartments_with_furniture += 1\n",
    "        total_furniture_items += total_items\n",
    "    else:\n",
    "        apartments_without_furniture += 1\n",
    "\n",
    "print(f\"Apartments WITH furniture: {apartments_with_furniture}\")\n",
    "print(f\"Apartments WITHOUT furniture: {apartments_without_furniture}\")\n",
    "print(f\"Avg furniture items per apartment: {total_furniture_items / apartments_with_furniture:.1f}\")"
   ]
  },
  {
   "cell_type": "markdown",
   "id": "17206df6",
   "metadata": {},
   "source": [
    "## 3. Room Type Distribution"
   ]
  },
  {
   "cell_type": "code",
   "execution_count": null,
   "id": "12e6b8b3",
   "metadata": {},
   "outputs": [],
   "source": [
    "room_types = Counter()\n",
    "room_areas = defaultdict(list)\n",
    "\n",
    "for json_file in json_files:\n",
    "    apt_data = load_apartment_json(json_file)\n",
    "    \n",
    "    for apt in apt_data.get(\"apartments\", []):\n",
    "        for comp in apt.get(\"compartments\", []):\n",
    "            room_type = comp.get(\"name_cad\", \"unknown\")\n",
    "            area = comp.get(\"area\", 0.0)\n",
    "            \n",
    "            room_types[room_type] += 1\n",
    "            room_areas[room_type].append(area)\n",
    "\n",
    "# Plot\n",
    "fig, ax = plt.subplots(figsize=(12, 6))\n",
    "room_df = pd.DataFrame(room_types.most_common(20), columns=['Room Type', 'Count'])\n",
    "sns.barplot(data=room_df, x='Count', y='Room Type', ax=ax)\n",
    "ax.set_title('Top 20 Room Types')\n",
    "plt.tight_layout()\n",
    "plt.show()"
   ]
  },
  {
   "cell_type": "markdown",
   "id": "7f4d2f5c",
   "metadata": {},
   "source": [
    "## 4. Furniture ID Distribution"
   ]
  },
  {
   "cell_type": "code",
   "execution_count": null,
   "id": "e1e1578f",
   "metadata": {},
   "outputs": [],
   "source": [
    "furniture_ids = Counter()\n",
    "room_furniture_pairs = Counter()  # (room_type, furniture_id)\n",
    "\n",
    "for json_file in json_files:\n",
    "    apt_data = load_apartment_json(json_file)\n",
    "    furniture_by_room = extract_furniture_ids(apt_data)\n",
    "    \n",
    "    for room_type, ids in furniture_by_room.items():\n",
    "        for fid in ids:\n",
    "            furniture_ids[fid] += 1\n",
    "            room_furniture_pairs[(room_type, fid)] += 1\n",
    "\n",
    "# Plot top furniture IDs\n",
    "fig, ax = plt.subplots(figsize=(12, 8))\n",
    "furn_df = pd.DataFrame(furniture_ids.most_common(30), columns=['Furniture ID', 'Count'])\n",
    "sns.barplot(data=furn_df, x='Count', y='Furniture ID', ax=ax)\n",
    "ax.set_title('Top 30 Furniture IDs')\n",
    "plt.tight_layout()\n",
    "plt.show()\n",
    "\n",
    "print(f\"\\nTotal unique furniture IDs: {len(furniture_ids)}\")"
   ]
  },
  {
   "cell_type": "markdown",
   "id": "a2e6a610",
   "metadata": {},
   "source": [
    "## 5. Semantic Validation\n",
    "\n",
    "Check for suspicious room-furniture pairs"
   ]
  },
  {
   "cell_type": "code",
   "execution_count": null,
   "id": "21d238dc",
   "metadata": {},
   "outputs": [],
   "source": [
    "# Define suspicious patterns (manual inspection needed)\n",
    "# TODO: Update after seeing actual IDs\n",
    "bathroom_furniture = [\"sh\", \"wc\", \"sink\", \"bathtub\"]  # Example IDs\n",
    "bedroom_rooms = [\"idBedroom\", \"idSypialnia\"]  # Example room names\n",
    "\n",
    "suspicious_pairs = []\n",
    "\n",
    "for (room_type, furn_id), count in room_furniture_pairs.items():\n",
    "    # Example: bathroom furniture in bedroom\n",
    "    if any(br in room_type for br in bedroom_rooms) and furn_id in bathroom_furniture:\n",
    "        suspicious_pairs.append((room_type, furn_id, count))\n",
    "\n",
    "if suspicious_pairs:\n",
    "    print(\"⚠️ Suspicious room-furniture pairs:\")\n",
    "    for room, furn, cnt in suspicious_pairs[:10]:\n",
    "        print(f\"  {room} + {furn}: {cnt} occurrences\")\n",
    "else:\n",
    "    print(\"✅ No obvious semantic errors detected (or patterns not defined yet)\")"
   ]
  },
  {
   "cell_type": "markdown",
   "id": "d2094369",
   "metadata": {},
   "source": [
    "## 6. Room Size Distribution by Type"
   ]
  },
  {
   "cell_type": "code",
   "execution_count": null,
   "id": "8d8bee00",
   "metadata": {},
   "outputs": [],
   "source": [
    "# Plot area distributions for common room types\n",
    "top_rooms = [rt for rt, _ in room_types.most_common(5)]\n",
    "\n",
    "fig, axes = plt.subplots(len(top_rooms), 1, figsize=(10, len(top_rooms) * 3))\n",
    "if len(top_rooms) == 1:\n",
    "    axes = [axes]\n",
    "\n",
    "for idx, room_type in enumerate(top_rooms):\n",
    "    areas = room_areas[room_type]\n",
    "    axes[idx].hist(areas, bins=30, edgecolor='black')\n",
    "    axes[idx].set_title(f'{room_type} - Area Distribution')\n",
    "    axes[idx].set_xlabel('Area (m²)')\n",
    "    axes[idx].set_ylabel('Count')\n",
    "    axes[idx].axvline(np.median(areas), color='red', linestyle='--', \n",
    "                      label=f'Median: {np.median(areas):.1f}m²')\n",
    "    axes[idx].legend()\n",
    "\n",
    "plt.tight_layout()\n",
    "plt.show()"
   ]
  },
  {
   "cell_type": "markdown",
   "id": "20b4e240",
   "metadata": {},
   "source": [
    "## 7. Export Statistics for Pipeline Config"
   ]
  },
  {
   "cell_type": "code",
   "execution_count": null,
   "id": "37ed69e2",
   "metadata": {},
   "outputs": [],
   "source": [
    "stats = {\n",
    "    \"total_apartments_scanned\": len(json_files),\n",
    "    \"apartments_with_furniture\": apartments_with_furniture,\n",
    "    \"apartments_without_furniture\": apartments_without_furniture,\n",
    "    \"unique_room_types\": len(room_types),\n",
    "    \"unique_furniture_ids\": len(furniture_ids),\n",
    "    \"top_room_types\": dict(room_types.most_common(10)),\n",
    "    \"top_furniture_ids\": dict(furniture_ids.most_common(20)),\n",
    "    \"avg_furniture_per_apartment\": total_furniture_items / apartments_with_furniture if apartments_with_furniture > 0 else 0\n",
    "}\n",
    "\n",
    "# Save to configs\n",
    "output_path = Path(\"../../datasets_pipelines/apartment_jsons_pipe/configs/eda_stats.json\")\n",
    "output_path.parent.mkdir(parents=True, exist_ok=True)\n",
    "\n",
    "with open(output_path, 'w') as f:\n",
    "    json.dump(stats, f, indent=2)\n",
    "\n",
    "print(f\"\\n✅ Stats saved to {output_path}\")\n",
    "print(json.dumps(stats, indent=2))"
   ]
  },
  {
   "cell_type": "markdown",
   "id": "0ac96d18",
   "metadata": {},
   "source": [
    "## Next Steps\n",
    "\n",
    "Based on EDA results:\n",
    "1. ✅ Identify all room types and furniture IDs\n",
    "2. ✅ Check data quality (coverage, missing values)\n",
    "3. 🔄 Create furniture catalog from SVG definitions\n",
    "4. 🔄 Build data pipeline (1_collect → 2_validate → 3_process → 4_split)\n",
    "5. 🔄 Start with Stage 1: Semantic model (room → furniture IDs)"
   ]
  }
 ],
 "metadata": {
  "language_info": {
   "name": "python"
  }
 },
 "nbformat": 4,
 "nbformat_minor": 5
}
