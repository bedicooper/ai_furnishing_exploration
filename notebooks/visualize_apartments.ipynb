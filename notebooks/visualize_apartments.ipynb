{
 "cells": [
  {
   "cell_type": "markdown",
   "id": "845525ca",
   "metadata": {},
   "source": [
    "# Apartment Visualization Helper\n",
    "\n",
    "**Goal**: Visualize apartment layouts and furniture placement\n",
    "\n",
    "This notebook will help you:\n",
    "- Plot room boundaries\n",
    "- Visualize furniture positions\n",
    "- Compare empty vs furnished apartments\n",
    "- Debug geometric placement"
   ]
  },
  {
   "cell_type": "code",
   "execution_count": null,
   "id": "05e3927b",
   "metadata": {},
   "outputs": [],
   "source": [
    "import sys\n",
    "sys.path.append('../utils')\n",
    "\n",
    "import json\n",
    "import matplotlib.pyplot as plt\n",
    "import matplotlib.patches as patches\n",
    "from matplotlib.patches import Polygon, Rectangle, FancyBboxPatch\n",
    "import numpy as np\n",
    "from pathlib import Path\n",
    "\n",
    "from json_processing import load_apartment_json, extract_furniture_ids\n",
    "from furniture_catalog import get_furniture_dims\n",
    "\n",
    "plt.rcParams['figure.figsize'] = (12, 8)"
   ]
  },
  {
   "cell_type": "markdown",
   "id": "a20e00cd",
   "metadata": {},
   "source": [
    "## Helper Functions for Plotting"
   ]
  },
  {
   "cell_type": "code",
   "execution_count": null,
   "id": "a765e61e",
   "metadata": {},
   "outputs": [],
   "source": [
    "def plot_boundary(ax, boundary, color='black', linewidth=2, label=None):\n",
    "    \"\"\"Plot room boundary (contour + islands).\"\"\"\n",
    "    if not boundary:\n",
    "        return\n",
    "    \n",
    "    # Plot contour\n",
    "    contour = boundary.get('contour', [])\n",
    "    if contour:\n",
    "        contour_array = np.array(contour)\n",
    "        ax.plot(contour_array[:, 0], contour_array[:, 1], \n",
    "               color=color, linewidth=linewidth, label=label)\n",
    "        # Close the polygon\n",
    "        ax.plot([contour_array[-1, 0], contour_array[0, 0]], \n",
    "               [contour_array[-1, 1], contour_array[0, 1]], \n",
    "               color=color, linewidth=linewidth)\n",
    "    \n",
    "    # Plot islands (holes)\n",
    "    islands = boundary.get('islands', [])\n",
    "    for island in islands:\n",
    "        island_array = np.array(island)\n",
    "        ax.plot(island_array[:, 0], island_array[:, 1], \n",
    "               color=color, linewidth=linewidth, linestyle='--')\n",
    "\n",
    "\n",
    "def plot_furniture(ax, furniture_item, catalog=None, color='blue', alpha=0.5):\n",
    "    \"\"\"Plot single furniture item as rectangle.\"\"\"\n",
    "    furn_id = furniture_item.get('id', 'unknown')\n",
    "    insert_point = furniture_item.get('insert_point', [0, 0])\n",
    "    angle = furniture_item.get('angle', 0)\n",
    "    x_scale = furniture_item.get('x_scale', 1.0)\n",
    "    y_scale = furniture_item.get('y_scale', 1.0)\n",
    "    \n",
    "    # Get dimensions from catalog or use defaults\n",
    "    if catalog and furn_id in catalog:\n",
    "        dims = catalog[furn_id]\n",
    "        width = dims['width'] * x_scale * 100  # Convert to cm for plotting\n",
    "        height = dims['height'] * y_scale * 100\n",
    "    else:\n",
    "        # Default size if not in catalog\n",
    "        width = 100 * x_scale\n",
    "        height = 100 * y_scale\n",
    "    \n",
    "    # Create rectangle at insert point\n",
    "    rect = FancyBboxPatch(\n",
    "        insert_point, width, height,\n",
    "        boxstyle=\"round,pad=0.05\",\n",
    "        linewidth=1.5,\n",
    "        edgecolor=color,\n",
    "        facecolor=color,\n",
    "        alpha=alpha,\n",
    "        angle=angle\n",
    "    )\n",
    "    ax.add_patch(rect)\n",
    "    \n",
    "    # Add label\n",
    "    ax.text(insert_point[0] + width/2, insert_point[1] + height/2, \n",
    "           furn_id, ha='center', va='center', fontsize=8, color='white', weight='bold')\n",
    "\n",
    "\n",
    "def plot_compartment(ax, compartment, catalog=None, show_furniture=True):\n",
    "    \"\"\"Plot single room with furniture.\"\"\"\n",
    "    room_name = compartment.get('name_cad', 'unknown')\n",
    "    boundary = compartment.get('boundary', {})\n",
    "    \n",
    "    # Plot boundary\n",
    "    plot_boundary(ax, boundary, color='black', linewidth=2, label=room_name)\n",
    "    \n",
    "    # Plot furniture if requested\n",
    "    if show_furniture:\n",
    "        for equipment in compartment.get('equipments', []):\n",
    "            plot_furniture(ax, equipment, catalog, color='steelblue')\n",
    "        \n",
    "        for casework in compartment.get('caseworks', []):\n",
    "            plot_furniture(ax, casework, catalog, color='coral')"
   ]
  },
  {
   "cell_type": "markdown",
   "id": "c9f6107f",
   "metadata": {},
   "source": [
    "## Load Sample Apartment"
   ]
  },
  {
   "cell_type": "code",
   "execution_count": null,
   "id": "43a54084",
   "metadata": {},
   "outputs": [],
   "source": [
    "# TODO: Update to your sample file\n",
    "apartment_file = \"../samples/apartment_001.json\"\n",
    "\n",
    "if Path(apartment_file).exists():\n",
    "    apt_data = load_apartment_json(apartment_file)\n",
    "    print(\"✅ Loaded apartment\")\n",
    "    \n",
    "    # Show structure\n",
    "    for apt in apt_data.get('apartments', []):\n",
    "        print(f\"\\nApartment: {apt.get('id_cad', 'unknown')}\")\n",
    "        print(f\"Type: {apt.get('type', 'unknown')}\")\n",
    "        print(f\"Rooms: {len(apt.get('compartments', []))}\")\n",
    "else:\n",
    "    print(f\"⚠️  File not found: {apartment_file}\")\n",
    "    print(\"Upload sample apartments tomorrow!\")"
   ]
  },
  {
   "cell_type": "markdown",
   "id": "89c73519",
   "metadata": {},
   "source": [
    "## Load Furniture Catalog"
   ]
  },
  {
   "cell_type": "code",
   "execution_count": null,
   "id": "69e1dbf0",
   "metadata": {},
   "outputs": [],
   "source": [
    "# Load catalog if available\n",
    "catalog_file = \"../samples/furniture_catalog.json\"\n",
    "\n",
    "catalog = None\n",
    "if Path(catalog_file).exists():\n",
    "    with open(catalog_file, 'r') as f:\n",
    "        catalog = json.load(f)\n",
    "    print(f\"✅ Loaded catalog with {len(catalog)} furniture items\")\n",
    "else:\n",
    "    print(\"⚠️  Catalog not found. Run extract_furniture_catalog.ipynb first.\")\n",
    "    print(\"Using default dimensions for visualization.\")"
   ]
  },
  {
   "cell_type": "markdown",
   "id": "a6c68b71",
   "metadata": {},
   "source": [
    "## Visualize All Rooms"
   ]
  },
  {
   "cell_type": "code",
   "execution_count": null,
   "id": "e00f7422",
   "metadata": {},
   "outputs": [],
   "source": [
    "if 'apt_data' in locals():\n",
    "    for apt in apt_data.get('apartments', []):\n",
    "        compartments = apt.get('compartments', [])\n",
    "        \n",
    "        # Create subplots for each room\n",
    "        n_rooms = len(compartments)\n",
    "        if n_rooms == 0:\n",
    "            continue\n",
    "        \n",
    "        fig, axes = plt.subplots(1, min(n_rooms, 4), figsize=(16, 5))\n",
    "        if n_rooms == 1:\n",
    "            axes = [axes]\n",
    "        \n",
    "        for idx, comp in enumerate(compartments[:4]):  # Show first 4 rooms\n",
    "            ax = axes[idx] if n_rooms > 1 else axes[0]\n",
    "            \n",
    "            plot_compartment(ax, comp, catalog, show_furniture=True)\n",
    "            \n",
    "            room_name = comp.get('name_cad', 'unknown')\n",
    "            area = comp.get('area', 0)\n",
    "            ax.set_title(f\"{room_name}\\n{area:.1f}m²\", fontsize=10)\n",
    "            ax.set_aspect('equal')\n",
    "            ax.grid(True, alpha=0.3)\n",
    "            ax.set_xlabel('X (cm)')\n",
    "            ax.set_ylabel('Y (cm)')\n",
    "        \n",
    "        plt.tight_layout()\n",
    "        plt.show()\n",
    "        \n",
    "        if n_rooms > 4:\n",
    "            print(f\"\\n(Showing first 4 of {n_rooms} rooms)\")"
   ]
  },
  {
   "cell_type": "markdown",
   "id": "3f564b59",
   "metadata": {},
   "source": [
    "## Compare Empty vs Furnished\n",
    "\n",
    "Side-by-side comparison (useful for debugging Stage 2 geometric placement)"
   ]
  },
  {
   "cell_type": "code",
   "execution_count": null,
   "id": "82c544ba",
   "metadata": {},
   "outputs": [],
   "source": [
    "if 'apt_data' in locals():\n",
    "    # Pick first room\n",
    "    for apt in apt_data.get('apartments', []):\n",
    "        compartments = apt.get('compartments', [])\n",
    "        if not compartments:\n",
    "            continue\n",
    "        \n",
    "        comp = compartments[0]\n",
    "        \n",
    "        fig, (ax1, ax2) = plt.subplots(1, 2, figsize=(14, 6))\n",
    "        \n",
    "        # Empty room\n",
    "        plot_compartment(ax1, comp, catalog, show_furniture=False)\n",
    "        ax1.set_title(f\"Empty: {comp.get('name_cad', 'unknown')}\", fontsize=12)\n",
    "        ax1.set_aspect('equal')\n",
    "        ax1.grid(True, alpha=0.3)\n",
    "        \n",
    "        # Furnished room\n",
    "        plot_compartment(ax2, comp, catalog, show_furniture=True)\n",
    "        ax2.set_title(f\"Furnished: {comp.get('name_cad', 'unknown')}\", fontsize=12)\n",
    "        ax2.set_aspect('equal')\n",
    "        ax2.grid(True, alpha=0.3)\n",
    "        \n",
    "        plt.tight_layout()\n",
    "        plt.show()\n",
    "        \n",
    "        break  # Only first apartment"
   ]
  },
  {
   "cell_type": "markdown",
   "id": "69134d16",
   "metadata": {},
   "source": [
    "## Next Steps\n",
    "\n",
    "This visualization will be useful for:\n",
    "1. Debugging geometric placement (Stage 2)\n",
    "2. Validating generated furniture positions\n",
    "3. Human evaluation of results\n",
    "4. Creating examples for documentation"
   ]
  }
 ],
 "metadata": {
  "language_info": {
   "name": "python"
  }
 },
 "nbformat": 4,
 "nbformat_minor": 5
}
