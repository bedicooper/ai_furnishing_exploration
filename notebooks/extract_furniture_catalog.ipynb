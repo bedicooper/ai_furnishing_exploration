{
 "cells": [
  {
   "cell_type": "markdown",
   "id": "86e39df5",
   "metadata": {},
   "source": [
    "# SVG Furniture Catalog Extraction\n",
    "\n",
    "**Goal**: Parse SVG file to extract furniture dimensions\n",
    "\n",
    "## Steps:\n",
    "1. Load SVG file with furniture definitions\n",
    "2. Extract `<path class=\"bg\">` for each furniture ID\n",
    "3. Calculate bbox → width/height\n",
    "4. Save as `furniture_catalog.json`"
   ]
  },
  {
   "cell_type": "code",
   "execution_count": null,
   "id": "2d37a05c",
   "metadata": {},
   "outputs": [],
   "source": [
    "import sys\n",
    "sys.path.append('../utils')\n",
    "\n",
    "from svg_parser import (\n",
    "    extract_furniture_from_svg,\n",
    "    parse_svg_path_bbox,\n",
    "    bbox_to_dimensions,\n",
    "    save_catalog_json\n",
    ")\n",
    "import json\n",
    "from pathlib import Path"
   ]
  },
  {
   "cell_type": "markdown",
   "id": "9ab470ba",
   "metadata": {},
   "source": [
    "## 1. Test Path Parser\n",
    "\n",
    "Test with your example path"
   ]
  },
  {
   "cell_type": "code",
   "execution_count": null,
   "id": "f14730c5",
   "metadata": {},
   "outputs": [],
   "source": [
    "# Example from your SVG\n",
    "test_path = \"M193 0A7 7 0 0 0 200 -7v-86A7 7 0 0 0 193 -100h-186A7 7 0 0 0 0 -93v86A7 7 0 0 0 7 0z\"\n",
    "\n",
    "bbox = parse_svg_path_bbox(test_path)\n",
    "print(f\"Bounding box: {bbox}\")\n",
    "print(f\"  min_x={bbox[0]}, min_y={bbox[1]}, max_x={bbox[2]}, max_y={bbox[3]}\")\n",
    "\n",
    "dims = bbox_to_dimensions(bbox, scale_factor=1.0)  # 1px = 1cm\n",
    "print(f\"\\nDimensions (assuming 1px=1cm):\")\n",
    "print(f\"  Width: {dims['width']:.2f}m\")\n",
    "print(f\"  Height: {dims['height']:.2f}m\")\n",
    "\n",
    "# If scale is different, adjust:\n",
    "# dims = bbox_to_dimensions(bbox, scale_factor=YOUR_SCALE)"
   ]
  },
  {
   "cell_type": "markdown",
   "id": "e9ebf25e",
   "metadata": {},
   "source": [
    "## 2. Extract from Full SVG Catalog\n",
    "\n",
    "**TODO**: Update `svg_path` to your furniture catalog file"
   ]
  },
  {
   "cell_type": "code",
   "execution_count": null,
   "id": "2fc43b57",
   "metadata": {},
   "outputs": [],
   "source": [
    "# TODO: Update this path!\n",
    "svg_path = \"../samples/furniture_catalog.svg\"  # Or wherever you'll put it\n",
    "\n",
    "# Check if file exists\n",
    "if Path(svg_path).exists():\n",
    "    catalog = extract_furniture_from_svg(svg_path)\n",
    "    print(f\"✅ Extracted {len(catalog)} furniture items\\n\")\n",
    "    \n",
    "    # Show first 10\n",
    "    for furn_id, data in list(catalog.items())[:10]:\n",
    "        print(f\"{furn_id:15s}: {data['width']:.2f}m x {data['height']:.2f}m\")\n",
    "else:\n",
    "    print(f\"⚠️  File not found: {svg_path}\")\n",
    "    print(\"Upload your furniture catalog SVG to samples/ folder tomorrow\")"
   ]
  },
  {
   "cell_type": "markdown",
   "id": "1f00c806",
   "metadata": {},
   "source": [
    "## 3. Inspect Sample Furniture Items"
   ]
  },
  {
   "cell_type": "code",
   "execution_count": null,
   "id": "4441efcb",
   "metadata": {},
   "outputs": [],
   "source": [
    "# If catalog was extracted, inspect specific items\n",
    "if 'catalog' in locals():\n",
    "    # Check if expected IDs are present (from your JSON example)\n",
    "    expected_ids = ['b2', 'sz', 'sh', 'wc', 'kitchenette']\n",
    "    \n",
    "    print(\"Looking for expected furniture IDs:\\n\")\n",
    "    for furn_id in expected_ids:\n",
    "        if furn_id in catalog:\n",
    "            data = catalog[furn_id]\n",
    "            print(f\"✅ {furn_id}:\")\n",
    "            print(f\"   Width: {data['width']:.2f}m\")\n",
    "            print(f\"   Height: {data['height']:.2f}m\")\n",
    "            print(f\"   BBox: {data['bbox']}\")\n",
    "        else:\n",
    "            print(f\"❌ {furn_id}: NOT FOUND\")\n",
    "        print()"
   ]
  },
  {
   "cell_type": "markdown",
   "id": "8bedde2e",
   "metadata": {},
   "source": [
    "## 4. Verify Scale Factor\n",
    "\n",
    "Check if dimensions make sense (e.g., double bed ~2m x 1.5m)"
   ]
  },
  {
   "cell_type": "code",
   "execution_count": null,
   "id": "622828da",
   "metadata": {},
   "outputs": [],
   "source": [
    "# Common furniture expected sizes (for validation)\n",
    "expected_sizes = {\n",
    "    'b2': {'width': (1.8, 2.2), 'height': (1.4, 1.8)},  # Double bed\n",
    "    'sz': {'width': (0.4, 0.8), 'height': (0.4, 0.8)},  # Nightstand\n",
    "    'sh': {'width': (0.8, 1.2), 'height': (0.8, 1.2)},  # Shower\n",
    "    'wc': {'width': (0.4, 0.7), 'height': (0.5, 0.8)},  # Toilet\n",
    "}\n",
    "\n",
    "if 'catalog' in locals():\n",
    "    print(\"Validating dimensions against expected ranges:\\n\")\n",
    "    for furn_id, expected in expected_sizes.items():\n",
    "        if furn_id in catalog:\n",
    "            actual = catalog[furn_id]\n",
    "            w_ok = expected['width'][0] <= actual['width'] <= expected['width'][1]\n",
    "            h_ok = expected['height'][0] <= actual['height'] <= expected['height'][1]\n",
    "            \n",
    "            status = \"✅\" if (w_ok and h_ok) else \"⚠️ \"\n",
    "            print(f\"{status} {furn_id}: {actual['width']:.2f}m x {actual['height']:.2f}m\")\n",
    "            \n",
    "            if not (w_ok and h_ok):\n",
    "                print(f\"   Expected: {expected['width'][0]}-{expected['width'][1]}m x {expected['height'][0]}-{expected['height'][1]}m\")\n",
    "                print(f\"   → Check SVG_SCALE_FACTOR in svg_parser.py\")"
   ]
  },
  {
   "cell_type": "markdown",
   "id": "e903a886",
   "metadata": {},
   "source": [
    "## 5. Save Catalog to JSON"
   ]
  },
  {
   "cell_type": "code",
   "execution_count": null,
   "id": "d8efb693",
   "metadata": {},
   "outputs": [],
   "source": [
    "if 'catalog' in locals() and catalog:\n",
    "    output_path = \"../samples/furniture_catalog.json\"\n",
    "    save_catalog_json(catalog, output_path)\n",
    "    \n",
    "    # Also show summary stats\n",
    "    widths = [d['width'] for d in catalog.values()]\n",
    "    heights = [d['height'] for d in catalog.values()]\n",
    "    \n",
    "    print(f\"\\nCatalog statistics:\")\n",
    "    print(f\"  Total items: {len(catalog)}\")\n",
    "    print(f\"  Width range: {min(widths):.2f}m - {max(widths):.2f}m\")\n",
    "    print(f\"  Height range: {min(heights):.2f}m - {max(heights):.2f}m\")\n",
    "else:\n",
    "    print(\"⚠️  No catalog to save. Upload SVG file first.\")"
   ]
  },
  {
   "cell_type": "markdown",
   "id": "4befacc3",
   "metadata": {},
   "source": [
    "## Next Steps\n",
    "\n",
    "Tomorrow:\n",
    "1. ✅ Upload furniture catalog SVG to `samples/`\n",
    "2. ✅ Upload sample apartment JSONs to `samples/`\n",
    "3. 🔄 Run this notebook to extract catalog\n",
    "4. 🔄 Run `eda_apartments.ipynb` to analyze apartments\n",
    "5. 🔄 Start building data pipeline"
   ]
  }
 ],
 "metadata": {
  "language_info": {
   "name": "python"
  }
 },
 "nbformat": 4,
 "nbformat_minor": 5
}
